{
 "cells": [
  {
   "cell_type": "code",
   "execution_count": 1,
   "metadata": {
    "id": "Bp95wPqQGnyW"
   },
   "outputs": [],
   "source": [
    "import pandas as pd\n",
    "import numpy as np\n",
    "import matplotlib.pyplot as plt\n",
    "import seaborn as sns\n",
    "sns.set(style=\"darkgrid\", color_codes=True)\n",
    "\n",
    "from sklearn.model_selection import train_test_split\n",
    "from sklearn.metrics import mean_absolute_error\n",
    "from sklearn.metrics import mean_squared_error\n",
    "\n",
    "import statsmodels.api as sm\n",
    "\n",
    "from sklearn.metrics import mean_squared_error\n",
    "from math import sqrt\n",
    "\n",
    "import warnings\n",
    "warnings.simplefilter(action='ignore', category=FutureWarning)"
   ]
  },
  {
   "cell_type": "code",
   "execution_count": 2,
   "metadata": {
    "colab": {
     "base_uri": "https://localhost:8080/"
    },
    "executionInfo": {
     "elapsed": 20737,
     "status": "ok",
     "timestamp": 1705154589300,
     "user": {
      "displayName": "User Name",
      "userId": "04079111390954509934"
     },
     "user_tz": -120
    },
    "id": "mLOkiBE5ICVv",
    "outputId": "10cbca83-2da7-4aae-e574-75560be71de6"
   },
   "outputs": [
    {
     "name": "stdout",
     "output_type": "stream",
     "text": [
      "Requirement already satisfied: xgboost in c:\\users\\smast\\anaconda3\\lib\\site-packages (2.0.3)\n",
      "Requirement already satisfied: scipy in c:\\users\\smast\\anaconda3\\lib\\site-packages (from xgboost) (1.7.3)\n",
      "Requirement already satisfied: numpy in c:\\users\\smast\\anaconda3\\lib\\site-packages (from xgboost) (1.21.5)\n"
     ]
    }
   ],
   "source": [
    "!pip install xgboost\n",
    "import xgboost as xgb\n",
    "from sklearn.model_selection import GridSearchCV"
   ]
  },
  {
   "cell_type": "code",
   "execution_count": 15,
   "metadata": {
    "id": "a1pXOnp1GqP8"
   },
   "outputs": [],
   "source": [
    "def plotFor(test,forecasts):\n",
    "    # Plotting the true values and the predicted values\n",
    "    plt.figure(figsize=(17,7))\n",
    "    plt.plot(test, label='True Values', marker='o')\n",
    "    plt.plot(forecasts, label='Predicted Values', marker='x')\n",
    "    plt.title('XGBoost Forecast for the Last 24 Observations')\n",
    "    plt.xlabel('Time')\n",
    "    plt.ylabel('WTI Price')\n",
    "    plt.legend()\n",
    "    plt.show()\n",
    "\n",
    "def calculateMAE(test, forecasts):\n",
    "    mae = mean_absolute_error(test, forecasts)\n",
    "    return mae\n",
    "\n",
    "def calculateMAPE(test, forecasts):\n",
    "    percentage_errors = [abs((actual - predicted) / actual) * 100 for actual, predicted in zip(test, forecasts) if actual != 0]\n",
    "    mape = sum(percentage_errors) / len(percentage_errors)\n",
    "    return mape\n",
    "\n",
    "def calculateMSE(test, forecasts):\n",
    "    mse = mean_squared_error(test, forecasts)\n",
    "    return mse\n",
    "\n",
    "def calculateRMSE(test, forecasts):\n",
    "    mse = mean_squared_error(test, forecasts)\n",
    "    rmse = sqrt(mse)\n",
    "    return rmse"
   ]
  },
  {
   "cell_type": "code",
   "execution_count": 4,
   "metadata": {
    "colab": {
     "base_uri": "https://localhost:8080/",
     "height": 455
    },
    "executionInfo": {
     "elapsed": 779,
     "status": "ok",
     "timestamp": 1705154590076,
     "user": {
      "displayName": "User Name",
      "userId": "04079111390954509934"
     },
     "user_tz": -120
    },
    "id": "mQ_3HppOGqSq",
    "outputId": "c30852cb-f7d7-49f2-b2e0-55d68e4589e0"
   },
   "outputs": [
    {
     "data": {
      "text/html": [
       "<div>\n",
       "<style scoped>\n",
       "    .dataframe tbody tr th:only-of-type {\n",
       "        vertical-align: middle;\n",
       "    }\n",
       "\n",
       "    .dataframe tbody tr th {\n",
       "        vertical-align: top;\n",
       "    }\n",
       "\n",
       "    .dataframe thead th {\n",
       "        text-align: right;\n",
       "    }\n",
       "</style>\n",
       "<table border=\"1\" class=\"dataframe\">\n",
       "  <thead>\n",
       "    <tr style=\"text-align: right;\">\n",
       "      <th></th>\n",
       "      <th>ASIALNG</th>\n",
       "      <th>ASIALNG_LAG</th>\n",
       "      <th>Equity Market Volatility</th>\n",
       "      <th>Economic Policy Uncertainty Europe</th>\n",
       "      <th>NY Business Conditions</th>\n",
       "      <th>3 Month Treasury Bill</th>\n",
       "      <th>Infectious Disease Tracker</th>\n",
       "      <th>Nickel</th>\n",
       "      <th>COV19</th>\n",
       "      <th>RUWAR</th>\n",
       "    </tr>\n",
       "    <tr>\n",
       "      <th>DATE</th>\n",
       "      <th></th>\n",
       "      <th></th>\n",
       "      <th></th>\n",
       "      <th></th>\n",
       "      <th></th>\n",
       "      <th></th>\n",
       "      <th></th>\n",
       "      <th></th>\n",
       "      <th></th>\n",
       "      <th></th>\n",
       "    </tr>\n",
       "  </thead>\n",
       "  <tbody>\n",
       "    <tr>\n",
       "      <th>2001-10-01</th>\n",
       "      <td>0.004310</td>\n",
       "      <td>-0.021368</td>\n",
       "      <td>22.46</td>\n",
       "      <td>141.35</td>\n",
       "      <td>-4.5</td>\n",
       "      <td>-0.72</td>\n",
       "      <td>0.39</td>\n",
       "      <td>-0.088497</td>\n",
       "      <td>0</td>\n",
       "      <td>0</td>\n",
       "    </tr>\n",
       "    <tr>\n",
       "      <th>2001-11-01</th>\n",
       "      <td>-0.163152</td>\n",
       "      <td>0.004310</td>\n",
       "      <td>-13.09</td>\n",
       "      <td>-10.39</td>\n",
       "      <td>-2.2</td>\n",
       "      <td>-0.48</td>\n",
       "      <td>-0.06</td>\n",
       "      <td>-0.045894</td>\n",
       "      <td>0</td>\n",
       "      <td>0</td>\n",
       "    </tr>\n",
       "    <tr>\n",
       "      <th>2001-12-01</th>\n",
       "      <td>-0.070803</td>\n",
       "      <td>-0.163152</td>\n",
       "      <td>-2.94</td>\n",
       "      <td>-39.39</td>\n",
       "      <td>-6.8</td>\n",
       "      <td>-0.29</td>\n",
       "      <td>0.09</td>\n",
       "      <td>0.060355</td>\n",
       "      <td>0</td>\n",
       "      <td>0</td>\n",
       "    </tr>\n",
       "    <tr>\n",
       "      <th>2002-01-01</th>\n",
       "      <td>-0.030347</td>\n",
       "      <td>-0.070803</td>\n",
       "      <td>-2.04</td>\n",
       "      <td>-53.76</td>\n",
       "      <td>11.7</td>\n",
       "      <td>-0.18</td>\n",
       "      <td>-0.39</td>\n",
       "      <td>0.035324</td>\n",
       "      <td>0</td>\n",
       "      <td>0</td>\n",
       "    </tr>\n",
       "    <tr>\n",
       "      <th>2002-02-01</th>\n",
       "      <td>0.019418</td>\n",
       "      <td>-0.030347</td>\n",
       "      <td>4.29</td>\n",
       "      <td>-5.87</td>\n",
       "      <td>11.2</td>\n",
       "      <td>-0.04</td>\n",
       "      <td>0.29</td>\n",
       "      <td>0.131247</td>\n",
       "      <td>0</td>\n",
       "      <td>0</td>\n",
       "    </tr>\n",
       "    <tr>\n",
       "      <th>...</th>\n",
       "      <td>...</td>\n",
       "      <td>...</td>\n",
       "      <td>...</td>\n",
       "      <td>...</td>\n",
       "      <td>...</td>\n",
       "      <td>...</td>\n",
       "      <td>...</td>\n",
       "      <td>...</td>\n",
       "      <td>...</td>\n",
       "      <td>...</td>\n",
       "    </tr>\n",
       "    <tr>\n",
       "      <th>2023-06-01</th>\n",
       "      <td>0.020990</td>\n",
       "      <td>-0.193205</td>\n",
       "      <td>2.93</td>\n",
       "      <td>21.28</td>\n",
       "      <td>-42.6</td>\n",
       "      <td>0.22</td>\n",
       "      <td>2.32</td>\n",
       "      <td>-0.071308</td>\n",
       "      <td>1</td>\n",
       "      <td>1</td>\n",
       "    </tr>\n",
       "    <tr>\n",
       "      <th>2023-07-01</th>\n",
       "      <td>0.073401</td>\n",
       "      <td>0.020990</td>\n",
       "      <td>-5.14</td>\n",
       "      <td>-18.30</td>\n",
       "      <td>38.4</td>\n",
       "      <td>0.02</td>\n",
       "      <td>-2.45</td>\n",
       "      <td>-0.041580</td>\n",
       "      <td>1</td>\n",
       "      <td>1</td>\n",
       "    </tr>\n",
       "    <tr>\n",
       "      <th>2023-08-01</th>\n",
       "      <td>0.076927</td>\n",
       "      <td>0.073401</td>\n",
       "      <td>-0.72</td>\n",
       "      <td>16.36</td>\n",
       "      <td>-5.5</td>\n",
       "      <td>0.09</td>\n",
       "      <td>-0.81</td>\n",
       "      <td>-0.006711</td>\n",
       "      <td>1</td>\n",
       "      <td>1</td>\n",
       "    </tr>\n",
       "    <tr>\n",
       "      <th>2023-09-01</th>\n",
       "      <td>0.112569</td>\n",
       "      <td>0.076927</td>\n",
       "      <td>-0.83</td>\n",
       "      <td>24.39</td>\n",
       "      <td>-20.1</td>\n",
       "      <td>0.05</td>\n",
       "      <td>-0.58</td>\n",
       "      <td>-0.031054</td>\n",
       "      <td>1</td>\n",
       "      <td>1</td>\n",
       "    </tr>\n",
       "    <tr>\n",
       "      <th>2023-10-01</th>\n",
       "      <td>0.150777</td>\n",
       "      <td>0.112569</td>\n",
       "      <td>2.30</td>\n",
       "      <td>-11.96</td>\n",
       "      <td>20.9</td>\n",
       "      <td>0.02</td>\n",
       "      <td>-0.26</td>\n",
       "      <td>-0.040000</td>\n",
       "      <td>1</td>\n",
       "      <td>1</td>\n",
       "    </tr>\n",
       "  </tbody>\n",
       "</table>\n",
       "<p>265 rows × 10 columns</p>\n",
       "</div>"
      ],
      "text/plain": [
       "             ASIALNG  ASIALNG_LAG  Equity Market Volatility  \\\n",
       "DATE                                                          \n",
       "2001-10-01  0.004310    -0.021368                     22.46   \n",
       "2001-11-01 -0.163152     0.004310                    -13.09   \n",
       "2001-12-01 -0.070803    -0.163152                     -2.94   \n",
       "2002-01-01 -0.030347    -0.070803                     -2.04   \n",
       "2002-02-01  0.019418    -0.030347                      4.29   \n",
       "...              ...          ...                       ...   \n",
       "2023-06-01  0.020990    -0.193205                      2.93   \n",
       "2023-07-01  0.073401     0.020990                     -5.14   \n",
       "2023-08-01  0.076927     0.073401                     -0.72   \n",
       "2023-09-01  0.112569     0.076927                     -0.83   \n",
       "2023-10-01  0.150777     0.112569                      2.30   \n",
       "\n",
       "            Economic Policy Uncertainty Europe  NY Business Conditions  \\\n",
       "DATE                                                                     \n",
       "2001-10-01                              141.35                    -4.5   \n",
       "2001-11-01                              -10.39                    -2.2   \n",
       "2001-12-01                              -39.39                    -6.8   \n",
       "2002-01-01                              -53.76                    11.7   \n",
       "2002-02-01                               -5.87                    11.2   \n",
       "...                                        ...                     ...   \n",
       "2023-06-01                               21.28                   -42.6   \n",
       "2023-07-01                              -18.30                    38.4   \n",
       "2023-08-01                               16.36                    -5.5   \n",
       "2023-09-01                               24.39                   -20.1   \n",
       "2023-10-01                              -11.96                    20.9   \n",
       "\n",
       "            3 Month Treasury Bill  Infectious Disease Tracker    Nickel  \\\n",
       "DATE                                                                      \n",
       "2001-10-01                  -0.72                        0.39 -0.088497   \n",
       "2001-11-01                  -0.48                       -0.06 -0.045894   \n",
       "2001-12-01                  -0.29                        0.09  0.060355   \n",
       "2002-01-01                  -0.18                       -0.39  0.035324   \n",
       "2002-02-01                  -0.04                        0.29  0.131247   \n",
       "...                           ...                         ...       ...   \n",
       "2023-06-01                   0.22                        2.32 -0.071308   \n",
       "2023-07-01                   0.02                       -2.45 -0.041580   \n",
       "2023-08-01                   0.09                       -0.81 -0.006711   \n",
       "2023-09-01                   0.05                       -0.58 -0.031054   \n",
       "2023-10-01                   0.02                       -0.26 -0.040000   \n",
       "\n",
       "            COV19  RUWAR  \n",
       "DATE                      \n",
       "2001-10-01      0      0  \n",
       "2001-11-01      0      0  \n",
       "2001-12-01      0      0  \n",
       "2002-01-01      0      0  \n",
       "2002-02-01      0      0  \n",
       "...           ...    ...  \n",
       "2023-06-01      1      1  \n",
       "2023-07-01      1      1  \n",
       "2023-08-01      1      1  \n",
       "2023-09-01      1      1  \n",
       "2023-10-01      1      1  \n",
       "\n",
       "[265 rows x 10 columns]"
      ]
     },
     "execution_count": 4,
     "metadata": {},
     "output_type": "execute_result"
    }
   ],
   "source": [
    "df = pd.read_excel(\"Renamed Columns Stationary Data/ASIALNG.xlsx\")\n",
    "df['DATE'] = pd.to_datetime(df['DATE'])\n",
    "df.set_index('DATE', inplace=True)\n",
    "df"
   ]
  },
  {
   "cell_type": "code",
   "execution_count": 5,
   "metadata": {
    "colab": {
     "base_uri": "https://localhost:8080/"
    },
    "executionInfo": {
     "elapsed": 11,
     "status": "ok",
     "timestamp": 1705154590076,
     "user": {
      "displayName": "User Name",
      "userId": "04079111390954509934"
     },
     "user_tz": -120
    },
    "id": "WmF5sK0WGqVc",
    "outputId": "63201ad1-4ea2-40dc-94d3-9ccd9146cd59"
   },
   "outputs": [
    {
     "name": "stdout",
     "output_type": "stream",
     "text": [
      "                            OLS Regression Results                            \n",
      "==============================================================================\n",
      "Dep. Variable:                ASIALNG   R-squared:                       0.081\n",
      "Model:                            OLS   Adj. R-squared:                  0.049\n",
      "Method:                 Least Squares   F-statistic:                     2.511\n",
      "Date:                Fri, 01 Mar 2024   Prob (F-statistic):            0.00904\n",
      "Time:                        19:16:02   Log-Likelihood:                 138.11\n",
      "No. Observations:                 265   AIC:                            -256.2\n",
      "Df Residuals:                     255   BIC:                            -220.4\n",
      "Df Model:                           9                                         \n",
      "Covariance Type:            nonrobust                                         \n",
      "======================================================================================================\n",
      "                                         coef    std err          t      P>|t|      [0.025      0.975]\n",
      "------------------------------------------------------------------------------------------------------\n",
      "const                                  0.0013      0.010      0.130      0.897      -0.018       0.021\n",
      "ASIALNG_LAG                            0.1583      0.062      2.549      0.011       0.036       0.281\n",
      "Equity Market Volatility               0.0003      0.001      0.222      0.824      -0.002       0.003\n",
      "Economic Policy Uncertainty Europe    -0.0002      0.000     -1.034      0.302      -0.001       0.000\n",
      "NY Business Conditions                 0.0006      0.001      0.799      0.425      -0.001       0.002\n",
      "3 Month Treasury Bill                  0.0759      0.055      1.380      0.169      -0.032       0.184\n",
      "Infectious Disease Tracker            -0.0046      0.003     -1.701      0.090      -0.010       0.001\n",
      "Nickel                                 0.0467      0.107      0.437      0.663      -0.164       0.257\n",
      "COV19                                  0.0552      0.031      1.754      0.081      -0.007       0.117\n",
      "RUWAR                                 -0.0950      0.047     -2.000      0.047      -0.189      -0.001\n",
      "==============================================================================\n",
      "Omnibus:                      170.633   Durbin-Watson:                   1.990\n",
      "Prob(Omnibus):                  0.000   Jarque-Bera (JB):             3417.650\n",
      "Skew:                          -2.173   Prob(JB):                         0.00\n",
      "Kurtosis:                      20.048   Cond. No.                         529.\n",
      "==============================================================================\n",
      "\n",
      "Notes:\n",
      "[1] Standard Errors assume that the covariance matrix of the errors is correctly specified.\n"
     ]
    }
   ],
   "source": [
    "y = df['ASIALNG']\n",
    "X = df[[\"ASIALNG_LAG\",\"Equity Market Volatility\",\"Economic Policy Uncertainty Europe\",\"NY Business Conditions\",\"3 Month Treasury Bill\",\"Infectious Disease Tracker\",\"Nickel\",\"COV19\",\"RUWAR\"]]\n",
    "\n",
    "X = sm.add_constant(X)\n",
    "model = sm.OLS(y, X).fit()\n",
    "summary = model.summary()\n",
    "print(summary)"
   ]
  },
  {
   "cell_type": "code",
   "execution_count": 6,
   "metadata": {
    "colab": {
     "base_uri": "https://localhost:8080/",
     "height": 455
    },
    "executionInfo": {
     "elapsed": 481,
     "status": "ok",
     "timestamp": 1705154590552,
     "user": {
      "displayName": "User Name",
      "userId": "04079111390954509934"
     },
     "user_tz": -120
    },
    "id": "nA99XwvLGqXr",
    "outputId": "3cb75689-99e6-4fe7-e901-b708658ae7cc"
   },
   "outputs": [
    {
     "data": {
      "text/html": [
       "<div>\n",
       "<style scoped>\n",
       "    .dataframe tbody tr th:only-of-type {\n",
       "        vertical-align: middle;\n",
       "    }\n",
       "\n",
       "    .dataframe tbody tr th {\n",
       "        vertical-align: top;\n",
       "    }\n",
       "\n",
       "    .dataframe thead th {\n",
       "        text-align: right;\n",
       "    }\n",
       "</style>\n",
       "<table border=\"1\" class=\"dataframe\">\n",
       "  <thead>\n",
       "    <tr style=\"text-align: right;\">\n",
       "      <th></th>\n",
       "      <th>ASIALNG</th>\n",
       "      <th>ASIALNG_LAG</th>\n",
       "      <th>Infectious Disease Tracker</th>\n",
       "      <th>COV19</th>\n",
       "      <th>RUWAR</th>\n",
       "    </tr>\n",
       "    <tr>\n",
       "      <th>DATE</th>\n",
       "      <th></th>\n",
       "      <th></th>\n",
       "      <th></th>\n",
       "      <th></th>\n",
       "      <th></th>\n",
       "    </tr>\n",
       "  </thead>\n",
       "  <tbody>\n",
       "    <tr>\n",
       "      <th>2001-10-01</th>\n",
       "      <td>0.004310</td>\n",
       "      <td>-0.021368</td>\n",
       "      <td>0.39</td>\n",
       "      <td>0</td>\n",
       "      <td>0</td>\n",
       "    </tr>\n",
       "    <tr>\n",
       "      <th>2001-11-01</th>\n",
       "      <td>-0.163152</td>\n",
       "      <td>0.004310</td>\n",
       "      <td>-0.06</td>\n",
       "      <td>0</td>\n",
       "      <td>0</td>\n",
       "    </tr>\n",
       "    <tr>\n",
       "      <th>2001-12-01</th>\n",
       "      <td>-0.070803</td>\n",
       "      <td>-0.163152</td>\n",
       "      <td>0.09</td>\n",
       "      <td>0</td>\n",
       "      <td>0</td>\n",
       "    </tr>\n",
       "    <tr>\n",
       "      <th>2002-01-01</th>\n",
       "      <td>-0.030347</td>\n",
       "      <td>-0.070803</td>\n",
       "      <td>-0.39</td>\n",
       "      <td>0</td>\n",
       "      <td>0</td>\n",
       "    </tr>\n",
       "    <tr>\n",
       "      <th>2002-02-01</th>\n",
       "      <td>0.019418</td>\n",
       "      <td>-0.030347</td>\n",
       "      <td>0.29</td>\n",
       "      <td>0</td>\n",
       "      <td>0</td>\n",
       "    </tr>\n",
       "    <tr>\n",
       "      <th>...</th>\n",
       "      <td>...</td>\n",
       "      <td>...</td>\n",
       "      <td>...</td>\n",
       "      <td>...</td>\n",
       "      <td>...</td>\n",
       "    </tr>\n",
       "    <tr>\n",
       "      <th>2023-06-01</th>\n",
       "      <td>0.020990</td>\n",
       "      <td>-0.193205</td>\n",
       "      <td>2.32</td>\n",
       "      <td>1</td>\n",
       "      <td>1</td>\n",
       "    </tr>\n",
       "    <tr>\n",
       "      <th>2023-07-01</th>\n",
       "      <td>0.073401</td>\n",
       "      <td>0.020990</td>\n",
       "      <td>-2.45</td>\n",
       "      <td>1</td>\n",
       "      <td>1</td>\n",
       "    </tr>\n",
       "    <tr>\n",
       "      <th>2023-08-01</th>\n",
       "      <td>0.076927</td>\n",
       "      <td>0.073401</td>\n",
       "      <td>-0.81</td>\n",
       "      <td>1</td>\n",
       "      <td>1</td>\n",
       "    </tr>\n",
       "    <tr>\n",
       "      <th>2023-09-01</th>\n",
       "      <td>0.112569</td>\n",
       "      <td>0.076927</td>\n",
       "      <td>-0.58</td>\n",
       "      <td>1</td>\n",
       "      <td>1</td>\n",
       "    </tr>\n",
       "    <tr>\n",
       "      <th>2023-10-01</th>\n",
       "      <td>0.150777</td>\n",
       "      <td>0.112569</td>\n",
       "      <td>-0.26</td>\n",
       "      <td>1</td>\n",
       "      <td>1</td>\n",
       "    </tr>\n",
       "  </tbody>\n",
       "</table>\n",
       "<p>265 rows × 5 columns</p>\n",
       "</div>"
      ],
      "text/plain": [
       "             ASIALNG  ASIALNG_LAG  Infectious Disease Tracker  COV19  RUWAR\n",
       "DATE                                                                       \n",
       "2001-10-01  0.004310    -0.021368                        0.39      0      0\n",
       "2001-11-01 -0.163152     0.004310                       -0.06      0      0\n",
       "2001-12-01 -0.070803    -0.163152                        0.09      0      0\n",
       "2002-01-01 -0.030347    -0.070803                       -0.39      0      0\n",
       "2002-02-01  0.019418    -0.030347                        0.29      0      0\n",
       "...              ...          ...                         ...    ...    ...\n",
       "2023-06-01  0.020990    -0.193205                        2.32      1      1\n",
       "2023-07-01  0.073401     0.020990                       -2.45      1      1\n",
       "2023-08-01  0.076927     0.073401                       -0.81      1      1\n",
       "2023-09-01  0.112569     0.076927                       -0.58      1      1\n",
       "2023-10-01  0.150777     0.112569                       -0.26      1      1\n",
       "\n",
       "[265 rows x 5 columns]"
      ]
     },
     "execution_count": 6,
     "metadata": {},
     "output_type": "execute_result"
    }
   ],
   "source": [
    "selected_columns = [\"ASIALNG\",\"ASIALNG_LAG\",\"Infectious Disease Tracker\",\"COV19\",\"RUWAR\"]\n",
    "pruned_df = df[selected_columns]\n",
    "\n",
    "pruned_df = pruned_df.set_index(df.index)\n",
    "pruned_df"
   ]
  },
  {
   "cell_type": "code",
   "execution_count": 7,
   "metadata": {
    "id": "hTJ3cwe0Gn1G"
   },
   "outputs": [],
   "source": [
    "# Splitting the dataset\n",
    "train_df = pruned_df.iloc[:-24]\n",
    "test_df = pruned_df.iloc[-24:]\n"
   ]
  },
  {
   "cell_type": "code",
   "execution_count": 8,
   "metadata": {
    "id": "Bm1awPBdHvEH"
   },
   "outputs": [],
   "source": [
    "# Separate the target variable and the features\n",
    "X_train = train_df[[\"ASIALNG_LAG\",\"Infectious Disease Tracker\",\"COV19\",\"RUWAR\"]]\n",
    "y_train = train_df[\"ASIALNG\"]\n",
    "\n",
    "X_test = test_df[[\"ASIALNG_LAG\",\"Infectious Disease Tracker\",\"COV19\",\"RUWAR\"]]\n",
    "y_test = test_df[\"ASIALNG\"]"
   ]
  },
  {
   "cell_type": "code",
   "execution_count": 9,
   "metadata": {
    "colab": {
     "base_uri": "https://localhost:8080/"
    },
    "executionInfo": {
     "elapsed": 56136,
     "status": "ok",
     "timestamp": 1705154646682,
     "user": {
      "displayName": "User Name",
      "userId": "04079111390954509934"
     },
     "user_tz": -120
    },
    "id": "7B3ubXTyTbTc",
    "outputId": "86ff93f4-d685-41dd-9987-28a07687242c"
   },
   "outputs": [
    {
     "name": "stdout",
     "output_type": "stream",
     "text": [
      "{'colsample_bytree': 0.9, 'learning_rate': 0.1, 'max_depth': 3, 'n_estimators': 100, 'reg_alpha': 0.1, 'reg_lambda': 2, 'subsample': 1}\n"
     ]
    }
   ],
   "source": [
    "# Define the parameter grid\n",
    "param_grid = {\n",
    "    'max_depth': [3, 4],\n",
    "    'learning_rate': [0.1, 0.2,],\n",
    "    'n_estimators': [100, 250],\n",
    "    'subsample': [0.7, 0.9, 1],\n",
    "    'colsample_bytree': [0.7, 0.9],\n",
    "    'reg_alpha': [0.1, 1],\n",
    "    'reg_lambda': [1.5, 2]\n",
    "}\n",
    "\n",
    "# Create the model\n",
    "model = xgb.XGBRegressor(objective='reg:squarederror')\n",
    "\n",
    "# Set up the grid search\n",
    "grid_search = GridSearchCV(model, param_grid, cv=3, scoring='neg_mean_squared_error')\n",
    "\n",
    "# Fit the grid search to the data\n",
    "grid_search.fit(X_train, y_train)\n",
    "\n",
    "# Best parameters\n",
    "print(grid_search.best_params_)\n",
    "\n",
    "# Use the best model to make predictions\n",
    "best_model = grid_search.best_estimator_\n",
    "predictions = best_model.predict(X_test)"
   ]
  },
  {
   "cell_type": "code",
   "execution_count": 10,
   "metadata": {
    "id": "qDzCVcInNNyT"
   },
   "outputs": [],
   "source": [
    "results = pd.DataFrame({'y_test': y_test, 'predictions': predictions})"
   ]
  },
  {
   "cell_type": "code",
   "execution_count": 16,
   "metadata": {
    "colab": {
     "base_uri": "https://localhost:8080/",
     "height": 419
    },
    "executionInfo": {
     "elapsed": 1248,
     "status": "ok",
     "timestamp": 1705154647925,
     "user": {
      "displayName": "User Name",
      "userId": "04079111390954509934"
     },
     "user_tz": -120
    },
    "id": "oKy8FJerJ4dp",
    "outputId": "0a6fbffc-ec6e-40a7-8ef6-69c2c0d8f076"
   },
   "outputs": [
    {
     "data": {
      "image/png": "[encoded data removed]",
      "text/plain": [
       "<Figure size 1224x504 with 1 Axes>"
      ]
     },
     "metadata": {},
     "output_type": "display_data"
    }
   ],
   "source": [
    "plotFor(results.y_test, results.predictions)"
   ]
  },
  {
   "cell_type": "code",
   "execution_count": 12,
   "metadata": {
    "colab": {
     "base_uri": "https://localhost:8080/"
    },
    "executionInfo": {
     "elapsed": 10,
     "status": "ok",
     "timestamp": 1705154647925,
     "user": {
      "displayName": "User Name",
      "userId": "04079111390954509934"
     },
     "user_tz": -120
    },
    "id": "7K1F99iXJ1HW",
    "outputId": "b26a7ca8-825d-46cf-9d2b-6366b3ce0d97"
   },
   "outputs": [
    {
     "name": "stdout",
     "output_type": "stream",
     "text": [
      "MAE: 0.2008\n",
      "MAPE: 153.2333 %\n",
      "MSE: 0.0590\n",
      "RMSE: 0.2428\n"
     ]
    }
   ],
   "source": [
    "print(f\"MAE: {calculateMAE(y_test, predictions):.4f}\")\n",
    "print(f\"MAPE: {calculateMAPE(y_test, predictions):.4f} %\")\n",
    "print(f\"MSE: {calculateMSE(y_test, predictions):.4f}\")\n",
    "print(f\"RMSE: {calculateRMSE(y_test, predictions):.4f}\")"
   ]
  },
  {
   "cell_type": "markdown",
   "metadata": {
    "id": "5S-EM00OOprN"
   },
   "source": [
    "## Saving Predictions"
   ]
  },
  {
   "cell_type": "code",
   "execution_count": 13,
   "metadata": {
    "colab": {
     "base_uri": "https://localhost:8080/",
     "height": 834
    },
    "executionInfo": {
     "elapsed": 9,
     "status": "ok",
     "timestamp": 1705154647925,
     "user": {
      "displayName": "User Name",
      "userId": "04079111390954509934"
     },
     "user_tz": -120
    },
    "id": "DZMJvFgVOtNF",
    "outputId": "dd93ef04-0837-4ae2-d644-a45af8a60e7e"
   },
   "outputs": [
    {
     "data": {
      "text/html": [
       "<div>\n",
       "<style scoped>\n",
       "    .dataframe tbody tr th:only-of-type {\n",
       "        vertical-align: middle;\n",
       "    }\n",
       "\n",
       "    .dataframe tbody tr th {\n",
       "        vertical-align: top;\n",
       "    }\n",
       "\n",
       "    .dataframe thead th {\n",
       "        text-align: right;\n",
       "    }\n",
       "</style>\n",
       "<table border=\"1\" class=\"dataframe\">\n",
       "  <thead>\n",
       "    <tr style=\"text-align: right;\">\n",
       "      <th></th>\n",
       "      <th>ASIALNG M XG</th>\n",
       "      <th>Actual</th>\n",
       "    </tr>\n",
       "    <tr>\n",
       "      <th>DATE</th>\n",
       "      <th></th>\n",
       "      <th></th>\n",
       "    </tr>\n",
       "  </thead>\n",
       "  <tbody>\n",
       "    <tr>\n",
       "      <th>2021-11-01</th>\n",
       "      <td>0.325376</td>\n",
       "      <td>-0.092861</td>\n",
       "    </tr>\n",
       "    <tr>\n",
       "      <th>2021-12-01</th>\n",
       "      <td>0.008392</td>\n",
       "      <td>0.157720</td>\n",
       "    </tr>\n",
       "    <tr>\n",
       "      <th>2022-01-01</th>\n",
       "      <td>0.022721</td>\n",
       "      <td>-0.332685</td>\n",
       "    </tr>\n",
       "    <tr>\n",
       "      <th>2022-02-01</th>\n",
       "      <td>-0.153798</td>\n",
       "      <td>0.036235</td>\n",
       "    </tr>\n",
       "    <tr>\n",
       "      <th>2022-03-01</th>\n",
       "      <td>0.033967</td>\n",
       "      <td>0.331117</td>\n",
       "    </tr>\n",
       "    <tr>\n",
       "      <th>2022-04-01</th>\n",
       "      <td>0.078442</td>\n",
       "      <td>-0.289232</td>\n",
       "    </tr>\n",
       "    <tr>\n",
       "      <th>2022-05-01</th>\n",
       "      <td>-0.122789</td>\n",
       "      <td>-0.279329</td>\n",
       "    </tr>\n",
       "    <tr>\n",
       "      <th>2022-06-01</th>\n",
       "      <td>-0.022062</td>\n",
       "      <td>0.297434</td>\n",
       "    </tr>\n",
       "    <tr>\n",
       "      <th>2022-07-01</th>\n",
       "      <td>0.221712</td>\n",
       "      <td>0.331965</td>\n",
       "    </tr>\n",
       "    <tr>\n",
       "      <th>2022-08-01</th>\n",
       "      <td>0.024191</td>\n",
       "      <td>0.274233</td>\n",
       "    </tr>\n",
       "    <tr>\n",
       "      <th>2022-09-01</th>\n",
       "      <td>0.221712</td>\n",
       "      <td>-0.192417</td>\n",
       "    </tr>\n",
       "    <tr>\n",
       "      <th>2022-10-01</th>\n",
       "      <td>-0.203394</td>\n",
       "      <td>-0.407033</td>\n",
       "    </tr>\n",
       "    <tr>\n",
       "      <th>2022-11-01</th>\n",
       "      <td>-0.140591</td>\n",
       "      <td>-0.164856</td>\n",
       "    </tr>\n",
       "    <tr>\n",
       "      <th>2022-12-01</th>\n",
       "      <td>-0.070002</td>\n",
       "      <td>0.197277</td>\n",
       "    </tr>\n",
       "    <tr>\n",
       "      <th>2023-01-01</th>\n",
       "      <td>0.074565</td>\n",
       "      <td>-0.395263</td>\n",
       "    </tr>\n",
       "    <tr>\n",
       "      <th>2023-02-01</th>\n",
       "      <td>-0.106393</td>\n",
       "      <td>-0.259565</td>\n",
       "    </tr>\n",
       "    <tr>\n",
       "      <th>2023-03-01</th>\n",
       "      <td>-0.130231</td>\n",
       "      <td>-0.178569</td>\n",
       "    </tr>\n",
       "    <tr>\n",
       "      <th>2023-04-01</th>\n",
       "      <td>-0.126604</td>\n",
       "      <td>-0.105777</td>\n",
       "    </tr>\n",
       "    <tr>\n",
       "      <th>2023-05-01</th>\n",
       "      <td>0.008392</td>\n",
       "      <td>-0.193205</td>\n",
       "    </tr>\n",
       "    <tr>\n",
       "      <th>2023-06-01</th>\n",
       "      <td>-0.203394</td>\n",
       "      <td>0.020990</td>\n",
       "    </tr>\n",
       "    <tr>\n",
       "      <th>2023-07-01</th>\n",
       "      <td>0.036034</td>\n",
       "      <td>0.073401</td>\n",
       "    </tr>\n",
       "    <tr>\n",
       "      <th>2023-08-01</th>\n",
       "      <td>0.029858</td>\n",
       "      <td>0.076927</td>\n",
       "    </tr>\n",
       "    <tr>\n",
       "      <th>2023-09-01</th>\n",
       "      <td>0.071464</td>\n",
       "      <td>0.112569</td>\n",
       "    </tr>\n",
       "    <tr>\n",
       "      <th>2023-10-01</th>\n",
       "      <td>0.202794</td>\n",
       "      <td>0.150777</td>\n",
       "    </tr>\n",
       "  </tbody>\n",
       "</table>\n",
       "</div>"
      ],
      "text/plain": [
       "            ASIALNG M XG    Actual\n",
       "DATE                              \n",
       "2021-11-01      0.325376 -0.092861\n",
       "2021-12-01      0.008392  0.157720\n",
       "2022-01-01      0.022721 -0.332685\n",
       "2022-02-01     -0.153798  0.036235\n",
       "2022-03-01      0.033967  0.331117\n",
       "2022-04-01      0.078442 -0.289232\n",
       "2022-05-01     -0.122789 -0.279329\n",
       "2022-06-01     -0.022062  0.297434\n",
       "2022-07-01      0.221712  0.331965\n",
       "2022-08-01      0.024191  0.274233\n",
       "2022-09-01      0.221712 -0.192417\n",
       "2022-10-01     -0.203394 -0.407033\n",
       "2022-11-01     -0.140591 -0.164856\n",
       "2022-12-01     -0.070002  0.197277\n",
       "2023-01-01      0.074565 -0.395263\n",
       "2023-02-01     -0.106393 -0.259565\n",
       "2023-03-01     -0.130231 -0.178569\n",
       "2023-04-01     -0.126604 -0.105777\n",
       "2023-05-01      0.008392 -0.193205\n",
       "2023-06-01     -0.203394  0.020990\n",
       "2023-07-01      0.036034  0.073401\n",
       "2023-08-01      0.029858  0.076927\n",
       "2023-09-01      0.071464  0.112569\n",
       "2023-10-01      0.202794  0.150777"
      ]
     },
     "execution_count": 13,
     "metadata": {},
     "output_type": "execute_result"
    }
   ],
   "source": [
    "df = pd.DataFrame({'ASIALNG M XG': predictions, 'Actual': y_test})\n",
    "df.to_excel(\"ASIALNG_M_XG_forecast.xlsx\", index=True)\n",
    "df"
   ]
  },
  {
   "cell_type": "code",
   "execution_count": 14,
   "metadata": {
    "id": "-jjPC5XXOwSI"
   },
   "outputs": [],
   "source": [
    "# Open a file in write mode\n",
    "with open('ASIALNG M XG Results.txt', 'w') as file:\n",
    "    # Write the variables to the file\n",
    "    file.write(f'{calculateMAE(y_test, predictions):.4f}\\n')\n",
    "    file.write(f'{calculateMAPE(y_test, predictions):.4f}\\n')\n",
    "    file.write(f'{calculateMSE(y_test, predictions):.4f}\\n')\n",
    "    file.write(f'{calculateRMSE(y_test, predictions):.4f}\\n')"
   ]
  },
  {
   "cell_type": "code",
   "execution_count": null,
   "metadata": {
    "id": "_7fz62iJIeVa"
   },
   "outputs": [],
   "source": []
  }
 ],
 "metadata": {
  "colab": {
   "provenance": []
  },
  "kernelspec": {
   "display_name": "Python 3 (ipykernel)",
   "language": "python",
   "name": "python3"
  },
  "language_info": {
   "codemirror_mode": {
    "name": "ipython",
    "version": 3
   },
   "file_extension": ".py",
   "mimetype": "text/x-python",
   "name": "python",
   "nbconvert_exporter": "python",
   "pygments_lexer": "ipython3",
   "version": "3.9.12"
  }
 },
 "nbformat": 4,
 "nbformat_minor": 1
}
