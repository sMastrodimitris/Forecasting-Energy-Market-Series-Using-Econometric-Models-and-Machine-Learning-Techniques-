{
 "cells": [
  {
   "cell_type": "code",
   "execution_count": 1,
   "metadata": {
    "executionInfo": {
     "elapsed": 3309,
     "status": "ok",
     "timestamp": 1705154417715,
     "user": {
      "displayName": "User Name",
      "userId": "04079111390954509934"
     },
     "user_tz": -120
    },
    "id": "Bp95wPqQGnyW"
   },
   "outputs": [],
   "source": [
    "import pandas as pd\n",
    "import numpy as np\n",
    "import matplotlib.pyplot as plt\n",
    "import seaborn as sns\n",
    "sns.set(style=\"darkgrid\", color_codes=True)\n",
    "\n",
    "from sklearn.model_selection import train_test_split\n",
    "from sklearn.metrics import mean_absolute_error\n",
    "from sklearn.metrics import mean_squared_error\n",
    "\n",
    "import statsmodels.api as sm\n",
    "\n",
    "from sklearn.metrics import mean_squared_error\n",
    "from math import sqrt\n",
    "\n",
    "import warnings\n",
    "warnings.simplefilter(action='ignore', category=FutureWarning)"
   ]
  },
  {
   "cell_type": "code",
   "execution_count": 2,
   "metadata": {
    "colab": {
     "base_uri": "https://localhost:8080/"
    },
    "executionInfo": {
     "elapsed": 24344,
     "status": "ok",
     "timestamp": 1705154444339,
     "user": {
      "displayName": "User Name",
      "userId": "04079111390954509934"
     },
     "user_tz": -120
    },
    "id": "mLOkiBE5ICVv",
    "outputId": "6b270baa-063b-464c-c47b-e9ad896719a8"
   },
   "outputs": [
    {
     "name": "stdout",
     "output_type": "stream",
     "text": [
      "Requirement already satisfied: xgboost in c:\\users\\smast\\anaconda3\\lib\\site-packages (2.0.3)\n",
      "Requirement already satisfied: scipy in c:\\users\\smast\\anaconda3\\lib\\site-packages (from xgboost) (1.7.3)\n",
      "Requirement already satisfied: numpy in c:\\users\\smast\\anaconda3\\lib\\site-packages (from xgboost) (1.21.5)\n"
     ]
    }
   ],
   "source": [
    "!pip install xgboost\n",
    "import xgboost as xgb\n",
    "from sklearn.model_selection import GridSearchCV"
   ]
  },
  {
   "cell_type": "code",
   "execution_count": 24,
   "metadata": {
    "executionInfo": {
     "elapsed": 7,
     "status": "ok",
     "timestamp": 1705154444340,
     "user": {
      "displayName": "User Name",
      "userId": "04079111390954509934"
     },
     "user_tz": -120
    },
    "id": "a1pXOnp1GqP8"
   },
   "outputs": [],
   "source": [
    "def plotFor(test,forecasts):\n",
    "    # Plotting the true values and the predicted values\n",
    "    plt.figure(figsize=(15, 5))\n",
    "    plt.plot(test, label='True Values', marker='o')\n",
    "    plt.plot(forecasts, label='Predicted Values', marker='x')\n",
    "    plt.title('XGBoost Forecast for the Last 24 Observations')\n",
    "    plt.xlabel('Time')\n",
    "    plt.ylabel('EUNG Returns')\n",
    "    plt.legend()\n",
    "    plt.show()\n",
    "\n",
    "def calculateMAE(test, forecasts):\n",
    "    mae = mean_absolute_error(test, forecasts)\n",
    "    return mae\n",
    "\n",
    "def calculateMAPE(test, forecasts):\n",
    "    percentage_errors = [abs((actual - predicted) / actual) * 100 for actual, predicted in zip(test, forecasts) if actual != 0]\n",
    "    mape = sum(percentage_errors) / len(percentage_errors)\n",
    "    return mape\n",
    "\n",
    "def calculateMSE(test, forecasts):\n",
    "    mse = mean_squared_error(test, forecasts)\n",
    "    return mse\n",
    "\n",
    "def calculateRMSE(test, forecasts):\n",
    "    mse = mean_squared_error(test, forecasts)\n",
    "    rmse = sqrt(mse)\n",
    "    return rmse"
   ]
  },
  {
   "cell_type": "code",
   "execution_count": 4,
   "metadata": {
    "colab": {
     "base_uri": "https://localhost:8080/",
     "height": 455
    },
    "executionInfo": {
     "elapsed": 1206,
     "status": "ok",
     "timestamp": 1705154445541,
     "user": {
      "displayName": "User Name",
      "userId": "04079111390954509934"
     },
     "user_tz": -120
    },
    "id": "mQ_3HppOGqSq",
    "outputId": "0ca97969-d5e3-4328-e161-fcf866dd6344"
   },
   "outputs": [
    {
     "data": {
      "text/html": [
       "<div>\n",
       "<style scoped>\n",
       "    .dataframe tbody tr th:only-of-type {\n",
       "        vertical-align: middle;\n",
       "    }\n",
       "\n",
       "    .dataframe tbody tr th {\n",
       "        vertical-align: top;\n",
       "    }\n",
       "\n",
       "    .dataframe thead th {\n",
       "        text-align: right;\n",
       "    }\n",
       "</style>\n",
       "<table border=\"1\" class=\"dataframe\">\n",
       "  <thead>\n",
       "    <tr style=\"text-align: right;\">\n",
       "      <th></th>\n",
       "      <th>EUNG</th>\n",
       "      <th>EUNG_LAG1</th>\n",
       "      <th>EUNG_LAG2</th>\n",
       "      <th>EUNG_LAG3</th>\n",
       "      <th>EUNG_LAG4</th>\n",
       "      <th>USAGDP</th>\n",
       "      <th>Equity Market Volatility</th>\n",
       "      <th>3 Month Treasury Bill</th>\n",
       "      <th>Infectious Disease Tracker</th>\n",
       "      <th>COV19</th>\n",
       "      <th>RUWAR</th>\n",
       "    </tr>\n",
       "    <tr>\n",
       "      <th>DATE</th>\n",
       "      <th></th>\n",
       "      <th></th>\n",
       "      <th></th>\n",
       "      <th></th>\n",
       "      <th></th>\n",
       "      <th></th>\n",
       "      <th></th>\n",
       "      <th></th>\n",
       "      <th></th>\n",
       "      <th></th>\n",
       "      <th></th>\n",
       "    </tr>\n",
       "  </thead>\n",
       "  <tbody>\n",
       "    <tr>\n",
       "      <th>1996-07-01</th>\n",
       "      <td>0.000000</td>\n",
       "      <td>0.003724</td>\n",
       "      <td>-0.018485</td>\n",
       "      <td>-0.014546</td>\n",
       "      <td>0.029306</td>\n",
       "      <td>0.020675</td>\n",
       "      <td>-4.19</td>\n",
       "      <td>0.09</td>\n",
       "      <td>-0.196710</td>\n",
       "      <td>0</td>\n",
       "      <td>0</td>\n",
       "    </tr>\n",
       "    <tr>\n",
       "      <th>1996-10-01</th>\n",
       "      <td>0.088868</td>\n",
       "      <td>0.000000</td>\n",
       "      <td>0.003724</td>\n",
       "      <td>-0.018485</td>\n",
       "      <td>-0.014546</td>\n",
       "      <td>0.012196</td>\n",
       "      <td>1.94</td>\n",
       "      <td>0.08</td>\n",
       "      <td>0.083382</td>\n",
       "      <td>0</td>\n",
       "      <td>0</td>\n",
       "    </tr>\n",
       "    <tr>\n",
       "      <th>1997-01-01</th>\n",
       "      <td>-0.013699</td>\n",
       "      <td>0.088868</td>\n",
       "      <td>0.000000</td>\n",
       "      <td>0.003724</td>\n",
       "      <td>-0.018485</td>\n",
       "      <td>0.015662</td>\n",
       "      <td>-0.40</td>\n",
       "      <td>-0.12</td>\n",
       "      <td>-0.446287</td>\n",
       "      <td>0</td>\n",
       "      <td>0</td>\n",
       "    </tr>\n",
       "    <tr>\n",
       "      <th>1997-04-01</th>\n",
       "      <td>-0.060409</td>\n",
       "      <td>-0.013699</td>\n",
       "      <td>0.088868</td>\n",
       "      <td>0.000000</td>\n",
       "      <td>0.003724</td>\n",
       "      <td>0.012380</td>\n",
       "      <td>2.70</td>\n",
       "      <td>0.08</td>\n",
       "      <td>0.782759</td>\n",
       "      <td>0</td>\n",
       "      <td>0</td>\n",
       "    </tr>\n",
       "    <tr>\n",
       "      <th>1997-07-01</th>\n",
       "      <td>-0.048790</td>\n",
       "      <td>-0.060409</td>\n",
       "      <td>-0.013699</td>\n",
       "      <td>0.088868</td>\n",
       "      <td>0.000000</td>\n",
       "      <td>0.018502</td>\n",
       "      <td>-0.41</td>\n",
       "      <td>-0.01</td>\n",
       "      <td>0.041964</td>\n",
       "      <td>0</td>\n",
       "      <td>0</td>\n",
       "    </tr>\n",
       "    <tr>\n",
       "      <th>...</th>\n",
       "      <td>...</td>\n",
       "      <td>...</td>\n",
       "      <td>...</td>\n",
       "      <td>...</td>\n",
       "      <td>...</td>\n",
       "      <td>...</td>\n",
       "      <td>...</td>\n",
       "      <td>...</td>\n",
       "      <td>...</td>\n",
       "      <td>...</td>\n",
       "      <td>...</td>\n",
       "    </tr>\n",
       "    <tr>\n",
       "      <th>2022-07-01</th>\n",
       "      <td>0.646442</td>\n",
       "      <td>-0.044776</td>\n",
       "      <td>0.021344</td>\n",
       "      <td>0.636412</td>\n",
       "      <td>0.631536</td>\n",
       "      <td>0.020373</td>\n",
       "      <td>-0.43</td>\n",
       "      <td>0.77</td>\n",
       "      <td>-0.083527</td>\n",
       "      <td>1</td>\n",
       "      <td>1</td>\n",
       "    </tr>\n",
       "    <tr>\n",
       "      <th>2022-10-01</th>\n",
       "      <td>-0.730063</td>\n",
       "      <td>0.646442</td>\n",
       "      <td>-0.044776</td>\n",
       "      <td>0.021344</td>\n",
       "      <td>0.636412</td>\n",
       "      <td>0.017477</td>\n",
       "      <td>-3.25</td>\n",
       "      <td>1.58</td>\n",
       "      <td>-0.269102</td>\n",
       "      <td>1</td>\n",
       "      <td>1</td>\n",
       "    </tr>\n",
       "    <tr>\n",
       "      <th>2023-01-01</th>\n",
       "      <td>-0.520405</td>\n",
       "      <td>-0.730063</td>\n",
       "      <td>0.646442</td>\n",
       "      <td>-0.044776</td>\n",
       "      <td>0.021344</td>\n",
       "      <td>0.015792</td>\n",
       "      <td>1.58</td>\n",
       "      <td>1.38</td>\n",
       "      <td>0.005921</td>\n",
       "      <td>1</td>\n",
       "      <td>1</td>\n",
       "    </tr>\n",
       "    <tr>\n",
       "      <th>2023-04-01</th>\n",
       "      <td>-0.396592</td>\n",
       "      <td>-0.520405</td>\n",
       "      <td>-0.730063</td>\n",
       "      <td>0.646442</td>\n",
       "      <td>-0.044776</td>\n",
       "      <td>0.015227</td>\n",
       "      <td>3.28</td>\n",
       "      <td>0.59</td>\n",
       "      <td>-0.029960</td>\n",
       "      <td>1</td>\n",
       "      <td>1</td>\n",
       "    </tr>\n",
       "    <tr>\n",
       "      <th>2023-07-01</th>\n",
       "      <td>-0.066661</td>\n",
       "      <td>-0.396592</td>\n",
       "      <td>-0.520405</td>\n",
       "      <td>-0.730063</td>\n",
       "      <td>0.646442</td>\n",
       "      <td>0.009259</td>\n",
       "      <td>-2.09</td>\n",
       "      <td>0.44</td>\n",
       "      <td>-0.079739</td>\n",
       "      <td>1</td>\n",
       "      <td>1</td>\n",
       "    </tr>\n",
       "  </tbody>\n",
       "</table>\n",
       "<p>109 rows × 11 columns</p>\n",
       "</div>"
      ],
      "text/plain": [
       "                EUNG  EUNG_LAG1  EUNG_LAG2  EUNG_LAG3  EUNG_LAG4    USAGDP  \\\n",
       "DATE                                                                         \n",
       "1996-07-01  0.000000   0.003724  -0.018485  -0.014546   0.029306  0.020675   \n",
       "1996-10-01  0.088868   0.000000   0.003724  -0.018485  -0.014546  0.012196   \n",
       "1997-01-01 -0.013699   0.088868   0.000000   0.003724  -0.018485  0.015662   \n",
       "1997-04-01 -0.060409  -0.013699   0.088868   0.000000   0.003724  0.012380   \n",
       "1997-07-01 -0.048790  -0.060409  -0.013699   0.088868   0.000000  0.018502   \n",
       "...              ...        ...        ...        ...        ...       ...   \n",
       "2022-07-01  0.646442  -0.044776   0.021344   0.636412   0.631536  0.020373   \n",
       "2022-10-01 -0.730063   0.646442  -0.044776   0.021344   0.636412  0.017477   \n",
       "2023-01-01 -0.520405  -0.730063   0.646442  -0.044776   0.021344  0.015792   \n",
       "2023-04-01 -0.396592  -0.520405  -0.730063   0.646442  -0.044776  0.015227   \n",
       "2023-07-01 -0.066661  -0.396592  -0.520405  -0.730063   0.646442  0.009259   \n",
       "\n",
       "            Equity Market Volatility  3 Month Treasury Bill  \\\n",
       "DATE                                                          \n",
       "1996-07-01                     -4.19                   0.09   \n",
       "1996-10-01                      1.94                   0.08   \n",
       "1997-01-01                     -0.40                  -0.12   \n",
       "1997-04-01                      2.70                   0.08   \n",
       "1997-07-01                     -0.41                  -0.01   \n",
       "...                              ...                    ...   \n",
       "2022-07-01                     -0.43                   0.77   \n",
       "2022-10-01                     -3.25                   1.58   \n",
       "2023-01-01                      1.58                   1.38   \n",
       "2023-04-01                      3.28                   0.59   \n",
       "2023-07-01                     -2.09                   0.44   \n",
       "\n",
       "            Infectious Disease Tracker  COV19  RUWAR  \n",
       "DATE                                                  \n",
       "1996-07-01                   -0.196710      0      0  \n",
       "1996-10-01                    0.083382      0      0  \n",
       "1997-01-01                   -0.446287      0      0  \n",
       "1997-04-01                    0.782759      0      0  \n",
       "1997-07-01                    0.041964      0      0  \n",
       "...                                ...    ...    ...  \n",
       "2022-07-01                   -0.083527      1      1  \n",
       "2022-10-01                   -0.269102      1      1  \n",
       "2023-01-01                    0.005921      1      1  \n",
       "2023-04-01                   -0.029960      1      1  \n",
       "2023-07-01                   -0.079739      1      1  \n",
       "\n",
       "[109 rows x 11 columns]"
      ]
     },
     "execution_count": 4,
     "metadata": {},
     "output_type": "execute_result"
    }
   ],
   "source": [
    "df = pd.read_excel(\"Renamed Columns Stationary Data/EUNG.xlsx\")\n",
    "df['DATE'] = pd.to_datetime(df['DATE'])\n",
    "df.set_index('DATE', inplace=True)\n",
    "df"
   ]
  },
  {
   "cell_type": "code",
   "execution_count": 5,
   "metadata": {
    "colab": {
     "base_uri": "https://localhost:8080/"
    },
    "executionInfo": {
     "elapsed": 19,
     "status": "ok",
     "timestamp": 1705154445542,
     "user": {
      "displayName": "User Name",
      "userId": "04079111390954509934"
     },
     "user_tz": -120
    },
    "id": "WmF5sK0WGqVc",
    "outputId": "330c744d-1032-49ac-b6fe-6ac102f4c9f1"
   },
   "outputs": [
    {
     "name": "stdout",
     "output_type": "stream",
     "text": [
      "                            OLS Regression Results                            \n",
      "==============================================================================\n",
      "Dep. Variable:                   EUNG   R-squared:                       0.313\n",
      "Model:                            OLS   Adj. R-squared:                  0.251\n",
      "Method:                 Least Squares   F-statistic:                     5.016\n",
      "Date:                Fri, 01 Mar 2024   Prob (F-statistic):           1.44e-05\n",
      "Time:                        18:54:26   Log-Likelihood:                 33.156\n",
      "No. Observations:                 109   AIC:                            -46.31\n",
      "Df Residuals:                      99   BIC:                            -19.40\n",
      "Df Model:                           9                                         \n",
      "Covariance Type:            nonrobust                                         \n",
      "==============================================================================================\n",
      "                                 coef    std err          t      P>|t|      [0.025      0.975]\n",
      "----------------------------------------------------------------------------------------------\n",
      "const                         -0.0010      0.019     -0.053      0.958      -0.039       0.037\n",
      "EUNG_LAG1                      0.2788      0.104      2.669      0.009       0.072       0.486\n",
      "EUNG_LAG2                     -0.1870      0.104     -1.792      0.076      -0.394       0.020\n",
      "EUNG_LAG3                      0.1735      0.102      1.702      0.092      -0.029       0.376\n",
      "EUNG_LAG4                      0.1083      0.114      0.953      0.343      -0.117       0.334\n",
      "Equity Market Volatility       0.0020      0.003      0.610      0.543      -0.005       0.009\n",
      "3 Month Treasury Bill         -0.0117      0.050     -0.234      0.815      -0.111       0.088\n",
      "Infectious Disease Tracker    -0.0668      0.041     -1.619      0.109      -0.149       0.015\n",
      "COV19                          0.2609      0.077      3.394      0.001       0.108       0.413\n",
      "RUWAR                         -0.4656      0.136     -3.436      0.001      -0.734      -0.197\n",
      "==============================================================================\n",
      "Omnibus:                       24.433   Durbin-Watson:                   2.045\n",
      "Prob(Omnibus):                  0.000   Jarque-Bera (JB):               96.699\n",
      "Skew:                          -0.596   Prob(JB):                     1.00e-21\n",
      "Kurtosis:                       7.457   Cond. No.                         61.6\n",
      "==============================================================================\n",
      "\n",
      "Notes:\n",
      "[1] Standard Errors assume that the covariance matrix of the errors is correctly specified.\n"
     ]
    }
   ],
   "source": [
    "y = df['EUNG']\n",
    "X = df[[\"EUNG_LAG1\",\"EUNG_LAG2\",\"EUNG_LAG3\",\"EUNG_LAG4\",\"Equity Market Volatility\",\"3 Month Treasury Bill\",\"Infectious Disease Tracker\",\"COV19\",\"RUWAR\"]]\n",
    "\n",
    "X = sm.add_constant(X)\n",
    "model = sm.OLS(y, X).fit()\n",
    "summary = model.summary()\n",
    "print(summary)"
   ]
  },
  {
   "cell_type": "code",
   "execution_count": 6,
   "metadata": {
    "colab": {
     "base_uri": "https://localhost:8080/",
     "height": 455
    },
    "executionInfo": {
     "elapsed": 13,
     "status": "ok",
     "timestamp": 1705154445542,
     "user": {
      "displayName": "User Name",
      "userId": "04079111390954509934"
     },
     "user_tz": -120
    },
    "id": "nA99XwvLGqXr",
    "outputId": "bc2b21af-48e4-4098-b0c9-453d609448d3"
   },
   "outputs": [
    {
     "data": {
      "text/html": [
       "<div>\n",
       "<style scoped>\n",
       "    .dataframe tbody tr th:only-of-type {\n",
       "        vertical-align: middle;\n",
       "    }\n",
       "\n",
       "    .dataframe tbody tr th {\n",
       "        vertical-align: top;\n",
       "    }\n",
       "\n",
       "    .dataframe thead th {\n",
       "        text-align: right;\n",
       "    }\n",
       "</style>\n",
       "<table border=\"1\" class=\"dataframe\">\n",
       "  <thead>\n",
       "    <tr style=\"text-align: right;\">\n",
       "      <th></th>\n",
       "      <th>EUNG</th>\n",
       "      <th>EUNG_LAG1</th>\n",
       "      <th>Infectious Disease Tracker</th>\n",
       "      <th>COV19</th>\n",
       "      <th>RUWAR</th>\n",
       "    </tr>\n",
       "    <tr>\n",
       "      <th>DATE</th>\n",
       "      <th></th>\n",
       "      <th></th>\n",
       "      <th></th>\n",
       "      <th></th>\n",
       "      <th></th>\n",
       "    </tr>\n",
       "  </thead>\n",
       "  <tbody>\n",
       "    <tr>\n",
       "      <th>1996-07-01</th>\n",
       "      <td>0.000000</td>\n",
       "      <td>0.003724</td>\n",
       "      <td>-0.196710</td>\n",
       "      <td>0</td>\n",
       "      <td>0</td>\n",
       "    </tr>\n",
       "    <tr>\n",
       "      <th>1996-10-01</th>\n",
       "      <td>0.088868</td>\n",
       "      <td>0.000000</td>\n",
       "      <td>0.083382</td>\n",
       "      <td>0</td>\n",
       "      <td>0</td>\n",
       "    </tr>\n",
       "    <tr>\n",
       "      <th>1997-01-01</th>\n",
       "      <td>-0.013699</td>\n",
       "      <td>0.088868</td>\n",
       "      <td>-0.446287</td>\n",
       "      <td>0</td>\n",
       "      <td>0</td>\n",
       "    </tr>\n",
       "    <tr>\n",
       "      <th>1997-04-01</th>\n",
       "      <td>-0.060409</td>\n",
       "      <td>-0.013699</td>\n",
       "      <td>0.782759</td>\n",
       "      <td>0</td>\n",
       "      <td>0</td>\n",
       "    </tr>\n",
       "    <tr>\n",
       "      <th>1997-07-01</th>\n",
       "      <td>-0.048790</td>\n",
       "      <td>-0.060409</td>\n",
       "      <td>0.041964</td>\n",
       "      <td>0</td>\n",
       "      <td>0</td>\n",
       "    </tr>\n",
       "    <tr>\n",
       "      <th>...</th>\n",
       "      <td>...</td>\n",
       "      <td>...</td>\n",
       "      <td>...</td>\n",
       "      <td>...</td>\n",
       "      <td>...</td>\n",
       "    </tr>\n",
       "    <tr>\n",
       "      <th>2022-07-01</th>\n",
       "      <td>0.646442</td>\n",
       "      <td>-0.044776</td>\n",
       "      <td>-0.083527</td>\n",
       "      <td>1</td>\n",
       "      <td>1</td>\n",
       "    </tr>\n",
       "    <tr>\n",
       "      <th>2022-10-01</th>\n",
       "      <td>-0.730063</td>\n",
       "      <td>0.646442</td>\n",
       "      <td>-0.269102</td>\n",
       "      <td>1</td>\n",
       "      <td>1</td>\n",
       "    </tr>\n",
       "    <tr>\n",
       "      <th>2023-01-01</th>\n",
       "      <td>-0.520405</td>\n",
       "      <td>-0.730063</td>\n",
       "      <td>0.005921</td>\n",
       "      <td>1</td>\n",
       "      <td>1</td>\n",
       "    </tr>\n",
       "    <tr>\n",
       "      <th>2023-04-01</th>\n",
       "      <td>-0.396592</td>\n",
       "      <td>-0.520405</td>\n",
       "      <td>-0.029960</td>\n",
       "      <td>1</td>\n",
       "      <td>1</td>\n",
       "    </tr>\n",
       "    <tr>\n",
       "      <th>2023-07-01</th>\n",
       "      <td>-0.066661</td>\n",
       "      <td>-0.396592</td>\n",
       "      <td>-0.079739</td>\n",
       "      <td>1</td>\n",
       "      <td>1</td>\n",
       "    </tr>\n",
       "  </tbody>\n",
       "</table>\n",
       "<p>109 rows × 5 columns</p>\n",
       "</div>"
      ],
      "text/plain": [
       "                EUNG  EUNG_LAG1  Infectious Disease Tracker  COV19  RUWAR\n",
       "DATE                                                                     \n",
       "1996-07-01  0.000000   0.003724                   -0.196710      0      0\n",
       "1996-10-01  0.088868   0.000000                    0.083382      0      0\n",
       "1997-01-01 -0.013699   0.088868                   -0.446287      0      0\n",
       "1997-04-01 -0.060409  -0.013699                    0.782759      0      0\n",
       "1997-07-01 -0.048790  -0.060409                    0.041964      0      0\n",
       "...              ...        ...                         ...    ...    ...\n",
       "2022-07-01  0.646442  -0.044776                   -0.083527      1      1\n",
       "2022-10-01 -0.730063   0.646442                   -0.269102      1      1\n",
       "2023-01-01 -0.520405  -0.730063                    0.005921      1      1\n",
       "2023-04-01 -0.396592  -0.520405                   -0.029960      1      1\n",
       "2023-07-01 -0.066661  -0.396592                   -0.079739      1      1\n",
       "\n",
       "[109 rows x 5 columns]"
      ]
     },
     "execution_count": 6,
     "metadata": {},
     "output_type": "execute_result"
    }
   ],
   "source": [
    "selected_columns = [\"EUNG\",\"EUNG_LAG1\",\"Infectious Disease Tracker\",\"COV19\",\"RUWAR\"]\n",
    "pruned_df = df[selected_columns]\n",
    "\n",
    "pruned_df = pruned_df.set_index(df.index)\n",
    "pruned_df"
   ]
  },
  {
   "cell_type": "code",
   "execution_count": 7,
   "metadata": {
    "executionInfo": {
     "elapsed": 11,
     "status": "ok",
     "timestamp": 1705154445542,
     "user": {
      "displayName": "User Name",
      "userId": "04079111390954509934"
     },
     "user_tz": -120
    },
    "id": "hTJ3cwe0Gn1G"
   },
   "outputs": [],
   "source": [
    "# Splitting the dataset\n",
    "train_df = pruned_df.iloc[:-8]\n",
    "test_df = pruned_df.iloc[-8:]\n"
   ]
  },
  {
   "cell_type": "code",
   "execution_count": 8,
   "metadata": {
    "executionInfo": {
     "elapsed": 12,
     "status": "ok",
     "timestamp": 1705154445543,
     "user": {
      "displayName": "User Name",
      "userId": "04079111390954509934"
     },
     "user_tz": -120
    },
    "id": "Bm1awPBdHvEH"
   },
   "outputs": [],
   "source": [
    "# Separate the target variable and the features\n",
    "X_train = train_df[[\"EUNG_LAG1\",\"Infectious Disease Tracker\",\"COV19\",\"RUWAR\"]]\n",
    "y_train = train_df[\"EUNG\"]\n",
    "\n",
    "X_test = test_df[[\"EUNG_LAG1\",\"Infectious Disease Tracker\",\"COV19\",\"RUWAR\"]]\n",
    "y_test = test_df[\"EUNG\"]"
   ]
  },
  {
   "cell_type": "code",
   "execution_count": 9,
   "metadata": {
    "colab": {
     "base_uri": "https://localhost:8080/"
    },
    "executionInfo": {
     "elapsed": 41948,
     "status": "ok",
     "timestamp": 1705154487479,
     "user": {
      "displayName": "User Name",
      "userId": "04079111390954509934"
     },
     "user_tz": -120
    },
    "id": "7B3ubXTyTbTc",
    "outputId": "b4436117-b277-4d04-8fa6-f29c49597b94"
   },
   "outputs": [
    {
     "name": "stdout",
     "output_type": "stream",
     "text": [
      "{'colsample_bytree': 0.7, 'learning_rate': 0.2, 'max_depth': 2, 'n_estimators': 250, 'reg_alpha': 1, 'reg_lambda': 1, 'subsample': 0.5}\n"
     ]
    }
   ],
   "source": [
    "# Define the parameter grid\n",
    "param_grid = {\n",
    "    'max_depth': [2,3],\n",
    "    'learning_rate': [0.1, 0.2],\n",
    "    'n_estimators': [200, 250],\n",
    "    'subsample': [0.3, 0.5],\n",
    "    'colsample_bytree': [0.7, 0.9],\n",
    "    'reg_alpha': [0.5, 1],\n",
    "    'reg_lambda': [1, 1.5]\n",
    "}\n",
    "\n",
    "# Create the model\n",
    "model = xgb.XGBRegressor(objective='reg:squarederror')\n",
    "\n",
    "# Set up the grid search\n",
    "grid_search = GridSearchCV(model, param_grid, cv=3, scoring='neg_mean_squared_error')\n",
    "\n",
    "# Fit the grid search to the data\n",
    "grid_search.fit(X_train, y_train)\n",
    "\n",
    "# Best parameters\n",
    "print(grid_search.best_params_)\n",
    "\n",
    "# Use the best model to make predictions\n",
    "best_model = grid_search.best_estimator_\n",
    "predictions = best_model.predict(X_test)"
   ]
  },
  {
   "cell_type": "code",
   "execution_count": 10,
   "metadata": {
    "executionInfo": {
     "elapsed": 9,
     "status": "ok",
     "timestamp": 1705154487479,
     "user": {
      "displayName": "User Name",
      "userId": "04079111390954509934"
     },
     "user_tz": -120
    },
    "id": "qDzCVcInNNyT"
   },
   "outputs": [],
   "source": [
    "results = pd.DataFrame({'y_test': y_test, 'predictions': predictions})"
   ]
  },
  {
   "cell_type": "code",
   "execution_count": 25,
   "metadata": {
    "colab": {
     "base_uri": "https://localhost:8080/",
     "height": 419
    },
    "executionInfo": {
     "elapsed": 851,
     "status": "ok",
     "timestamp": 1705154488323,
     "user": {
      "displayName": "User Name",
      "userId": "04079111390954509934"
     },
     "user_tz": -120
    },
    "id": "oKy8FJerJ4dp",
    "outputId": "74eb8529-187e-4e06-b84b-63a55a3dd692"
   },
   "outputs": [
    {
     "data": {
      "image/png": "[encoded data removed]",
      "text/plain": [
       "<Figure size 1080x360 with 1 Axes>"
      ]
     },
     "metadata": {},
     "output_type": "display_data"
    }
   ],
   "source": [
    "plotFor(results.y_test, results.predictions)"
   ]
  },
  {
   "cell_type": "code",
   "execution_count": 12,
   "metadata": {
    "colab": {
     "base_uri": "https://localhost:8080/"
    },
    "executionInfo": {
     "elapsed": 17,
     "status": "ok",
     "timestamp": 1705154488323,
     "user": {
      "displayName": "User Name",
      "userId": "04079111390954509934"
     },
     "user_tz": -120
    },
    "id": "z6IXE8iuK6hV",
    "outputId": "ff765940-eb30-4bfd-8903-853c33a9fca5"
   },
   "outputs": [
    {
     "name": "stdout",
     "output_type": "stream",
     "text": [
      "MAE: 0.4460\n",
      "MAPE: 302.9604 %\n",
      "MSE: 0.2681\n",
      "RMSE: 0.5178\n"
     ]
    }
   ],
   "source": [
    "print(f\"MAE: {calculateMAE(y_test, predictions):.4f}\")\n",
    "print(f\"MAPE: {calculateMAPE(y_test, predictions):.4f} %\")\n",
    "print(f\"MSE: {calculateMSE(y_test, predictions):.4f}\")\n",
    "print(f\"RMSE: {calculateRMSE(y_test, predictions):.4f}\")"
   ]
  },
  {
   "cell_type": "markdown",
   "metadata": {
    "id": "qrOJ7jbBK97d"
   },
   "source": [
    "## Saving Prediction"
   ]
  },
  {
   "cell_type": "code",
   "execution_count": 13,
   "metadata": {
    "colab": {
     "base_uri": "https://localhost:8080/",
     "height": 332
    },
    "executionInfo": {
     "elapsed": 14,
     "status": "ok",
     "timestamp": 1705154488323,
     "user": {
      "displayName": "User Name",
      "userId": "04079111390954509934"
     },
     "user_tz": -120
    },
    "id": "4a-745esLBsG",
    "outputId": "eb5a83b5-1581-435f-cb75-4c80712de40e"
   },
   "outputs": [
    {
     "data": {
      "text/html": [
       "<div>\n",
       "<style scoped>\n",
       "    .dataframe tbody tr th:only-of-type {\n",
       "        vertical-align: middle;\n",
       "    }\n",
       "\n",
       "    .dataframe tbody tr th {\n",
       "        vertical-align: top;\n",
       "    }\n",
       "\n",
       "    .dataframe thead th {\n",
       "        text-align: right;\n",
       "    }\n",
       "</style>\n",
       "<table border=\"1\" class=\"dataframe\">\n",
       "  <thead>\n",
       "    <tr style=\"text-align: right;\">\n",
       "      <th></th>\n",
       "      <th>EUNG Q XG</th>\n",
       "      <th>Actual</th>\n",
       "    </tr>\n",
       "    <tr>\n",
       "      <th>DATE</th>\n",
       "      <th></th>\n",
       "      <th></th>\n",
       "    </tr>\n",
       "  </thead>\n",
       "  <tbody>\n",
       "    <tr>\n",
       "      <th>2021-10-01</th>\n",
       "      <td>0.262837</td>\n",
       "      <td>0.636412</td>\n",
       "    </tr>\n",
       "    <tr>\n",
       "      <th>2022-01-01</th>\n",
       "      <td>0.290538</td>\n",
       "      <td>0.021344</td>\n",
       "    </tr>\n",
       "    <tr>\n",
       "      <th>2022-04-01</th>\n",
       "      <td>0.165752</td>\n",
       "      <td>-0.044776</td>\n",
       "    </tr>\n",
       "    <tr>\n",
       "      <th>2022-07-01</th>\n",
       "      <td>0.152310</td>\n",
       "      <td>0.646442</td>\n",
       "    </tr>\n",
       "    <tr>\n",
       "      <th>2022-10-01</th>\n",
       "      <td>0.289092</td>\n",
       "      <td>-0.730063</td>\n",
       "    </tr>\n",
       "    <tr>\n",
       "      <th>2023-01-01</th>\n",
       "      <td>0.080378</td>\n",
       "      <td>-0.520405</td>\n",
       "    </tr>\n",
       "    <tr>\n",
       "      <th>2023-04-01</th>\n",
       "      <td>0.083330</td>\n",
       "      <td>-0.396592</td>\n",
       "    </tr>\n",
       "    <tr>\n",
       "      <th>2023-07-01</th>\n",
       "      <td>0.054068</td>\n",
       "      <td>-0.066661</td>\n",
       "    </tr>\n",
       "  </tbody>\n",
       "</table>\n",
       "</div>"
      ],
      "text/plain": [
       "            EUNG Q XG    Actual\n",
       "DATE                           \n",
       "2021-10-01   0.262837  0.636412\n",
       "2022-01-01   0.290538  0.021344\n",
       "2022-04-01   0.165752 -0.044776\n",
       "2022-07-01   0.152310  0.646442\n",
       "2022-10-01   0.289092 -0.730063\n",
       "2023-01-01   0.080378 -0.520405\n",
       "2023-04-01   0.083330 -0.396592\n",
       "2023-07-01   0.054068 -0.066661"
      ]
     },
     "execution_count": 13,
     "metadata": {},
     "output_type": "execute_result"
    }
   ],
   "source": [
    "df = pd.DataFrame({'EUNG Q XG': predictions, 'Actual': y_test})\n",
    "df.to_excel(\"EUNG_Q_XG_forecast.xlsx\", index=True)\n",
    "df"
   ]
  },
  {
   "cell_type": "code",
   "execution_count": 14,
   "metadata": {
    "executionInfo": {
     "elapsed": 489,
     "status": "ok",
     "timestamp": 1705154528200,
     "user": {
      "displayName": "User Name",
      "userId": "04079111390954509934"
     },
     "user_tz": -120
    },
    "id": "RRuTbIqELGX5"
   },
   "outputs": [],
   "source": [
    "# Open a file in write mode\n",
    "with open('EUNG Q XG Results.txt', 'w') as file:\n",
    "    # Write the variables to the file\n",
    "    file.write(f'{calculateMAE(y_test, predictions):.4f}\\n')\n",
    "    file.write(f'{calculateMAPE(y_test, predictions):.4f}\\n')\n",
    "    file.write(f'{calculateMSE(y_test, predictions):.4f}\\n')\n",
    "    file.write(f'{calculateRMSE(y_test, predictions):.4f}\\n')"
   ]
  },
  {
   "cell_type": "code",
   "execution_count": null,
   "metadata": {
    "executionInfo": {
     "elapsed": 13,
     "status": "ok",
     "timestamp": 1705154488324,
     "user": {
      "displayName": "User Name",
      "userId": "04079111390954509934"
     },
     "user_tz": -120
    },
    "id": "JghJFDiQH6Lc"
   },
   "outputs": [],
   "source": []
  },
  {
   "cell_type": "code",
   "execution_count": 15,
   "metadata": {},
   "outputs": [
    {
     "data": {
      "image/png": "[encoded data removed]",
      "text/plain": [
       "<Figure size 864x288 with 1 Axes>"
      ]
     },
     "metadata": {},
     "output_type": "display_data"
    }
   ],
   "source": [
    "res = y_test - predictions\n",
    "\n",
    "plt.figure(figsize=(12, 4))\n",
    "plt.scatter(predictions, res)\n",
    "plt.title('Residuals Plot')\n",
    "plt.xlabel('Predicted Values')\n",
    "plt.ylabel('Residuals')\n",
    "plt.axhline(y=0, color='r', linestyle='--')\n",
    "plt.show()"
   ]
  },
  {
   "cell_type": "code",
   "execution_count": 16,
   "metadata": {},
   "outputs": [
    {
     "data": {
      "image/png": "[encoded data removed]",
      "text/plain": [
       "<Figure size 864x288 with 1 Axes>"
      ]
     },
     "metadata": {},
     "output_type": "display_data"
    }
   ],
   "source": [
    "plt.figure(figsize=(12, 4))\n",
    "plt.hist(res, bins=20, edgecolor='black')\n",
    "plt.title('Histogram of Residuals')\n",
    "plt.xlabel('Residuals')\n",
    "plt.ylabel('Frequency')\n",
    "plt.show()"
   ]
  },
  {
   "cell_type": "code",
   "execution_count": 17,
   "metadata": {},
   "outputs": [
    {
     "data": {
      "image/png": "[encoded data removed]",
      "text/plain": [
       "<Figure size 864x288 with 1 Axes>"
      ]
     },
     "metadata": {},
     "output_type": "display_data"
    }
   ],
   "source": [
    "import scipy.stats as stats\n",
    "plt.figure(figsize=(12, 4))\n",
    "stats.probplot(res, dist=\"norm\", plot=plt)\n",
    "plt.title('Q-Q Plot of Residuals')\n",
    "plt.show()"
   ]
  },
  {
   "cell_type": "code",
   "execution_count": 18,
   "metadata": {},
   "outputs": [
    {
     "data": {
      "image/png": "[encoded data removed]",
      "text/plain": [
       "<Figure size 864x288 with 1 Axes>"
      ]
     },
     "metadata": {},
     "output_type": "display_data"
    }
   ],
   "source": [
    "plt.figure(figsize=(12, 4))\n",
    "plt.boxplot(res, vert=False)\n",
    "plt.title('Boxplot of Residuals')\n",
    "plt.xlabel('Residuals')\n",
    "plt.show()"
   ]
  },
  {
   "cell_type": "code",
   "execution_count": 19,
   "metadata": {},
   "outputs": [
    {
     "data": {
      "image/png": "[encoded data removed]",
      "text/plain": [
       "<Figure size 864x288 with 1 Axes>"
      ]
     },
     "metadata": {},
     "output_type": "display_data"
    }
   ],
   "source": [
    "from pandas.plotting import autocorrelation_plot\n",
    "plt.figure(figsize=(12, 4))\n",
    "autocorrelation_plot(res)\n",
    "plt.title('Autocorrelation of Residuals')\n",
    "plt.show()"
   ]
  },
  {
   "cell_type": "code",
   "execution_count": null,
   "metadata": {},
   "outputs": [],
   "source": []
  }
 ],
 "metadata": {
  "colab": {
   "provenance": []
  },
  "kernelspec": {
   "display_name": "Python 3 (ipykernel)",
   "language": "python",
   "name": "python3"
  },
  "language_info": {
   "codemirror_mode": {
    "name": "ipython",
    "version": 3
   },
   "file_extension": ".py",
   "mimetype": "text/x-python",
   "name": "python",
   "nbconvert_exporter": "python",
   "pygments_lexer": "ipython3",
   "version": "3.9.12"
  }
 },
 "nbformat": 4,
 "nbformat_minor": 1
}
